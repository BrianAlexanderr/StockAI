{
 "cells": [
  {
   "cell_type": "code",
   "execution_count": 2,
   "id": "abf7e0af",
   "metadata": {},
   "outputs": [
    {
     "name": "stdout",
     "output_type": "stream",
     "text": [
      "Index(['No', 'Kode', 'Nama Perusahaan', 'Tanggal Pencatatan', 'Saham',\n",
      "       'Papan Pencatatan'],\n",
      "      dtype='object')\n",
      "✅ Saved stocks_with_names.csv\n"
     ]
    }
   ],
   "source": [
    "import pandas as pd\n",
    "\n",
    "# Load your stock codes file\n",
    "codes = pd.read_csv(\"daftar_saham.csv\")\n",
    "\n",
    "# Load the IDX Excel file\n",
    "df_idx = pd.read_excel(\"Daftar Saham  - 20250908.xlsx\", sheet_name=\"Sheet1\")\n",
    "\n",
    "# Inspect columns to find the right names\n",
    "print(df_idx.columns)\n",
    "\n",
    "# Merge based on stock code (adjust column names as needed, e.g. \"Code\")\n",
    "merged = codes.merge(df_idx, left_on=\"daftar_saham\", right_on=\"Kode\", how=\"left\")\n",
    "\n",
    "# Keep only Code and Company Name\n",
    "result = merged[[\"Kode\", \"Nama Perusahaan\"]]  # adjust column names\n",
    "\n",
    "# Save to CSV\n",
    "result.to_csv(\"stocks_with_names.csv\", index=False)\n",
    "\n",
    "print(\"✅ Saved stocks_with_names.csv\")\n"
   ]
  }
 ],
 "metadata": {
  "kernelspec": {
   "display_name": "env_nugas",
   "language": "python",
   "name": "python3"
  },
  "language_info": {
   "codemirror_mode": {
    "name": "ipython",
    "version": 3
   },
   "file_extension": ".py",
   "mimetype": "text/x-python",
   "name": "python",
   "nbconvert_exporter": "python",
   "pygments_lexer": "ipython3",
   "version": "3.12.11"
  }
 },
 "nbformat": 4,
 "nbformat_minor": 5
}

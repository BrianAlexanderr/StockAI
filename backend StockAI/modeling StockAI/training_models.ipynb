{
 "cells": [
  {
   "cell_type": "code",
   "execution_count": 26,
   "id": "60351f78",
   "metadata": {},
   "outputs": [
    {
     "name": "stdout",
     "output_type": "stream",
     "text": [
      "                    target\n",
      "item_id timestamp         \n",
      "AALI    2001-04-16     547\n",
      "        2001-04-17     524\n",
      "        2001-04-18     524\n",
      "        2001-04-19     500\n",
      "        2001-04-20     452\n"
     ]
    }
   ],
   "source": [
    "import pandas as pd\n",
    "from autogluon.timeseries import TimeSeriesDataFrame, TimeSeriesPredictor\n",
    "import glob\n",
    "\n",
    "# Suppose all your CSVs are inside \"stock_data/\" directory\n",
    "file_paths = glob.glob(\"dataset/*.csv\")\n",
    "\n",
    "dfs = []\n",
    "for path in file_paths:\n",
    "    # Extract stock name from filename (e.g., AAPL.csv -> AAPL)\n",
    "    stock_name = path.split(\"\\\\\")[-1].replace(\".csv\", \"\")\n",
    "    \n",
    "    df = pd.read_csv(path, parse_dates=[\"timestamp\"])\n",
    "    \n",
    "    # Rename to match AutoGluon expected schema\n",
    "    df = df.rename(columns={\"close\": \"target\"})\n",
    "    \n",
    "    # Add item_id column for stock\n",
    "    df[\"item_id\"] = stock_name\n",
    "    \n",
    "    dfs.append(df[[\"item_id\", \"timestamp\", \"target\"]])\n",
    "\n",
    "# Concatenate all stocks into one dataframe\n",
    "all_data = pd.concat(dfs).reset_index(drop=True)\n",
    "\n",
    "# Convert into TimeSeriesDataFrame\n",
    "ts_data = TimeSeriesDataFrame.from_data_frame(\n",
    "    all_data,\n",
    "    id_column=\"item_id\",\n",
    "    timestamp_column=\"timestamp\"\n",
    ")\n",
    "\n",
    "print(ts_data.head())\n"
   ]
  },
  {
   "cell_type": "code",
   "execution_count": 27,
   "id": "eb0ae77b",
   "metadata": {},
   "outputs": [
    {
     "name": "stdout",
     "output_type": "stream",
     "text": [
      "Sebelum: 824 saham\n",
      "Sesudah: 506 saham\n"
     ]
    }
   ],
   "source": [
    "# Hitung jumlah timestamp per saham\n",
    "counts = ts_data.groupby(\"item_id\").size()\n",
    "\n",
    "# Ambil saham yang punya >= 30 data\n",
    "valid_items = counts[counts >= 1500].index\n",
    "\n",
    "# Filter dataframe hanya untuk saham valid\n",
    "ts_data_filtered = ts_data[ts_data.index.get_level_values(\"item_id\").isin(valid_items)]\n",
    "\n",
    "print(\"Sebelum:\", ts_data.index.get_level_values(\"item_id\").nunique(), \"saham\")\n",
    "print(\"Sesudah:\", ts_data_filtered.index.get_level_values(\"item_id\").nunique(), \"saham\")\n",
    "\n"
   ]
  },
  {
   "cell_type": "code",
   "execution_count": 28,
   "id": "897b9b86",
   "metadata": {},
   "outputs": [
    {
     "name": "stdout",
     "output_type": "stream",
     "text": [
      "Jumlah saham: 506\n",
      "Daftar saham: ['AALI', 'ABBA', 'ABDA', 'ABMM', 'ACES', 'ACST', 'ADES', 'ADHI', 'ADMF', 'ADMG', 'ADRO', 'AGII', 'AGRO', 'AGRS', 'AHAP', 'AIMS', 'AISA', 'AKKU', 'AKPI', 'AKRA', 'AKSI', 'ALDO', 'ALKA', 'ALMI', 'ALTO', 'AMAG', 'AMFG', 'AMIN', 'AMRT', 'ANJT', 'ANTM', 'APEX', 'APIC', 'APII', 'APLI', 'APLN', 'ARGO', 'ARII', 'ARNA', 'ARTA', 'ARTI', 'ARTO', 'ASBI', 'ASDM', 'ASGR', 'ASII', 'ASJT', 'ASMI', 'ASRI', 'ASRM', 'ASSA', 'ATIC', 'AUTO', 'BABP', 'BACA', 'BAJA', 'BALI', 'BAPA', 'BATA', 'BAYU', 'BBCA', 'BBHI', 'BBKP', 'BBLD', 'BBMD', 'BBNI', 'BBRI', 'BBRM', 'BBTN', 'BBYB', 'BCAP', 'BCIC', 'BCIP', 'BDMN', 'BEKS', 'BEST', 'BFIN', 'BGTG', 'BHIT', 'BIKA', 'BIMA', 'BINA', 'BIPI', 'BIPP', 'BIRD', 'BISI', 'BJBR', 'BJTM', 'BKDP', 'BKSL', 'BKSW', 'BLTA', 'BLTZ', 'BMAS', 'BMRI', 'BMSR', 'BMTR', 'BNBA', 'BNBR', 'BNGA', 'BNII', 'BNLI', 'BOGA', 'BOLT', 'BPFI', 'BPII', 'BRAM', 'BRMS', 'BRNA', 'BRPT', 'BSDE', 'BSIM', 'BSSR', 'BSWD', 'BTEK', 'BTEL', 'BTON', 'BTPN', 'BUDI', 'BUKK', 'BULL', 'BUMI', 'BUVA', 'BVIC', 'BWPT', 'BYAN', 'CANI', 'CARS', 'CASA', 'CASS', 'CEKA', 'CENT', 'CFIN', 'CINT', 'CITA', 'CLPI', 'CMNP', 'CMPP', 'CNKO', 'CNTX', 'COWL', 'CPIN', 'CPRO', 'CSAP', 'CTBN', 'CTRA', 'CTTH', 'DART', 'DAYA', 'DEFI', 'DEWA', 'DGIK', 'DILD', 'DKFT', 'DLTA', 'DMAS', 'DNAR', 'DNET', 'DOID', 'DPNS', 'DPUM', 'DSFI', 'DSNG', 'DSSA', 'DUTI', 'DVLA', 'DYAN', 'ECII', 'EKAD', 'ELSA', 'ELTY', 'EMDE', 'EMTK', 'ENRG', 'EPMT', 'ERAA', 'ERTX', 'ESSA', 'ESTI', 'ETWA', 'EXCL', 'FAST', 'FASW', 'FISH', 'FMII', 'FORU', 'FPNI', 'FREN', 'GAMA', 'GDST', 'GDYR', 'GEMA', 'GEMS', 'GGRM', 'GIAA', 'GJTL', 'GLOB', 'GMTD', 'GOLD', 'GOLL', 'GPRA', 'GSMF', 'GTBO', 'GWSA', 'GZCO', 'HADE', 'HDFA', 'HERO', 'HEXA', 'HITS', 'HMSP', 'HOME', 'HOTL', 'HRUM', 'IATA', 'IBFN', 'IBST', 'ICBP', 'ICON', 'IDPR', 'IGAR', 'IIKP', 'IKAI', 'IKBI', 'IMAS', 'IMJS', 'IMPC', 'INAF', 'INAI', 'INCF', 'INCI', 'INCO', 'INDF', 'INDR', 'INDS', 'INDX', 'INDY', 'INKP', 'INPC', 'INPP', 'INRU', 'INTA', 'INTD', 'INTP', 'IPOL', 'ISAT', 'ISSP', 'ITMA', 'ITMG', 'JAWA', 'JECC', 'JGLE', 'JIHD', 'JKON', 'JKSW', 'JPFA', 'JRPT', 'JSMR', 'JSPT', 'JTPE', 'KAEF', 'KARW', 'KBLI', 'KBLM', 'KBLV', 'KBRI', 'KDSI', 'KIAS', 'KICI', 'KIJA', 'KINO', 'KKGI', 'KLBF', 'KOBX', 'KOIN', 'KONI', 'KOPI', 'KPIG', 'KRAH', 'KRAS', 'KREN', 'LAPD', 'LCGP', 'LEAD', 'LINK', 'LION', 'LMAS', 'LMPI', 'LMSH', 'LPCK', 'LPGI', 'LPIN', 'LPKR', 'LPLI', 'LPPF', 'LPPS', 'LRNA', 'LSIP', 'LTLS', 'MAGP', 'MAIN', 'MAMI', 'MAPI', 'MARI', 'MASA', 'MAYA', 'MBAP', 'MBSS', 'MBTO', 'MCOR', 'MDIA', 'MDKA', 'MDLN', 'MDRN', 'MEDC', 'MEGA', 'MERK', 'META', 'MFIN', 'MFMI', 'MGNA', 'MICE', 'MIDI', 'MIKA', 'MIRA', 'MITI', 'MKNT', 'MKPI', 'MLBI', 'MLIA', 'MLPL', 'MLPT', 'MMLP', 'MNCN', 'MPMX', 'MPPA', 'MRAT', 'MREI', 'MSKY', 'MTDL', 'MTFN', 'MTLA', 'MTRA', 'MTSM', 'MYOH', 'MYOR', 'MYRX', 'MYTX', 'NELY', 'NIKL', 'NIRO', 'NISP', 'NOBU', 'NRCA', 'OASA', 'OCAP', 'OKAS', 'OMRE', 'PADI', 'PALM', 'PANR', 'PANS', 'PBRX', 'PBSA', 'PDES', 'PEGE', 'PGAS', 'PGLI', 'PICO', 'PJAA', 'PKPK', 'PLAS', 'PLIN', 'PNBN', 'PNBS', 'PNIN', 'PNLF', 'PNSE', 'POLY', 'POOL', 'PORT', 'POWR', 'PPRO', 'PRAS', 'PRDA', 'PSAB', 'PSDN', 'PSKT', 'PTBA', 'PTIS', 'PTPP', 'PTRO', 'PTSN', 'PTSP', 'PUDP', 'PWON', 'PYFA', 'RAJA', 'RANC', 'RBMS', 'RDTX', 'RELI', 'RICY', 'RIGS', 'RIMO', 'RODA', 'SAFE', 'SAME', 'SCCO', 'SCMA', 'SCPI', 'SDMU', 'SDPC', 'SDRA', 'SGRO', 'SHID', 'SHIP', 'SIDO', 'SILO', 'SIMA', 'SIMP', 'SIPD', 'SKBM', 'SKLT', 'SKYB', 'SMAR', 'SMBR', 'SMCB', 'SMDM', 'SMDR', 'SMGR', 'SMMA', 'SMMT', 'SMRA', 'SMRU', 'SMSM', 'SOCI', 'SONA', 'SPMA', 'SQMI', 'SRAJ', 'SRIL', 'SRSN', 'SRTG', 'SSIA', 'SSMS', 'SSTM', 'STAR', 'STTP', 'SULI', 'SUPR', 'TALF', 'TARA', 'TAXI', 'TBIG', 'TBLA', 'TBMS', 'TCID', 'TELE', 'TFCO', 'TGKA', 'TIFA', 'TINS', 'TIRA', 'TIRT', 'TKIM', 'TLKM', 'TMAS', 'TMPO', 'TOBA', 'TOTL', 'TOTO', 'TOWR', 'TPIA', 'TPMA', 'TRAM', 'TRIM', 'TRIS', 'TRST', 'TRUS', 'TSPC', 'TURI', 'ULTJ', 'UNIC', 'UNIT', 'UNSP', 'UNTR', 'UNVR', 'VICO', 'VINS', 'VIVA', 'VOKS', 'VRNA', 'WAPO', 'WEHA', 'WICO', 'WIIM', 'WIKA', 'WINS', 'WOMF', 'WSBP', 'WSKT', 'WTON', 'YPAS', 'YULE', 'ZBRA']\n"
     ]
    }
   ],
   "source": [
    "# Daftar saham yang masih ada setelah filter\n",
    "filtered_items = ts_data_filtered.index.get_level_values(\"item_id\").unique()\n",
    "\n",
    "print(\"Jumlah saham:\", len(filtered_items))\n",
    "print(\"Daftar saham:\", filtered_items.tolist())\n"
   ]
  },
  {
   "cell_type": "code",
   "execution_count": 29,
   "id": "19080f30",
   "metadata": {},
   "outputs": [],
   "source": [
    "dataframed = pd.DataFrame({\n",
    "    'daftar_saham': filtered_items.to_list()\n",
    "})\n",
    "\n",
    "dataframed.to_csv('daftar_saham.csv', index=False)"
   ]
  },
  {
   "cell_type": "code",
   "execution_count": 30,
   "id": "72e7de9f",
   "metadata": {},
   "outputs": [],
   "source": [
    "prediction_length = 1200\n",
    "train_data, test_data = ts_data_filtered.train_test_split(prediction_length)"
   ]
  },
  {
   "cell_type": "code",
   "execution_count": 31,
   "id": "76f6c9e7",
   "metadata": {},
   "outputs": [
    {
     "name": "stderr",
     "output_type": "stream",
     "text": [
      "Frequency '1D' stored as 'D'\n",
      "Beginning AutoGluon training... Time limit = 6000s\n",
      "AutoGluon will save models to 'd:\\Project iseng\\StockAI\\backend StockAI\\modeling StockAI\\AutogluonModels\\ag-20250908_044919'\n",
      "=================== System Info ===================\n",
      "AutoGluon Version:  1.4.0\n",
      "Python Version:     3.12.11\n",
      "Operating System:   Windows\n",
      "Platform Machine:   AMD64\n",
      "Platform Version:   10.0.26100\n",
      "CPU Count:          12\n",
      "GPU Count:          1\n",
      "Memory Avail:       2.75 GB / 11.78 GB (23.3%)\n",
      "Disk Space Avail:   179.05 GB / 237.13 GB (75.5%)\n",
      "===================================================\n",
      "\n",
      "Fitting with arguments:\n",
      "{'enable_ensemble': False,\n",
      " 'eval_metric': MAE,\n",
      " 'freq': 'D',\n",
      " 'hyperparameters': {'Chronos': [{'ag_args': {'name_suffix': 'FineTuned'},\n",
      "                                  'fine_tune': True,\n",
      "                                  'model_path': 'bolt_small'}]},\n",
      " 'known_covariates_names': [],\n",
      " 'num_val_windows': 1,\n",
      " 'prediction_length': 1200,\n",
      " 'quantile_levels': [0.1, 0.2, 0.3, 0.4, 0.5, 0.6, 0.7, 0.8, 0.9],\n",
      " 'random_seed': 123,\n",
      " 'refit_every_n_windows': 1,\n",
      " 'refit_full': False,\n",
      " 'skip_model_selection': False,\n",
      " 'target': 'target',\n",
      " 'time_limit': 6000,\n",
      " 'verbosity': 2}\n",
      "\n",
      "train_data with frequency 'B' has been resampled to frequency 'D'.\n",
      "Provided train_data has 2288574 rows (NaN fraction=28.5%), 506 time series. Median time series length is 5846 (min=418, max=6256). \n",
      "\tRemoving 119 short time series from train_data. Only series with length >= 2401 will be used for training.\n",
      "\tAfter filtering, train_data has 2104284 rows (NaN fraction=28.6%), 387 time series. Median time series length is 6255 (min=2426, max=6256). \n",
      "\n",
      "Provided data contains following columns:\n",
      "\ttarget: 'target'\n",
      "\n",
      "AutoGluon will gauge predictive performance using evaluation metric: 'MAE'\n",
      "\tThis metric's sign has been flipped to adhere to being higher_is_better. The metric score can be multiplied by -1 to get the metric value.\n",
      "===================================================\n",
      "\n",
      "Starting training. Start time is 2025-09-08 11:49:21\n",
      "Models that will be trained: ['ChronosFineTuned[bolt_small]']\n",
      "Training timeseries model ChronosFineTuned[bolt_small]. Training for up to 5997.7s of the 5997.7s of remaining time.\n",
      "\tSaving fine-tuned model to d:\\Project iseng\\StockAI\\backend StockAI\\modeling StockAI\\AutogluonModels\\ag-20250908_044919\\models\\ChronosFineTuned[bolt_small]\\W0\\fine-tuned-ckpt\n",
      "\t-2864.3907    = Validation score (-MAE)\n",
      "\t209.30  s     = Training runtime\n",
      "\t300.58  s     = Validation (prediction) runtime\n",
      "Training complete. Models trained: ['ChronosFineTuned[bolt_small]']\n",
      "Total runtime: 510.00 s\n",
      "Best model: ChronosFineTuned[bolt_small]\n",
      "Best model score: -2864.3907\n"
     ]
    }
   ],
   "source": [
    "predictor = TimeSeriesPredictor(prediction_length=prediction_length, eval_metric='MAE', freq='1D').fit(\n",
    "    train_data=train_data,\n",
    "    hyperparameters={\n",
    "        \"Chronos\": [\n",
    "            {\"model_path\": \"bolt_small\", \"fine_tune\": True, \"ag_args\": {\"name_suffix\": \"FineTuned\"}},\n",
    "        ]\n",
    "    },\n",
    "    time_limit=6000,  # time limit in seconds\n",
    "    enable_ensemble=False,\n",
    ")"
   ]
  },
  {
   "cell_type": "code",
   "execution_count": 32,
   "id": "a7db1294",
   "metadata": {},
   "outputs": [
    {
     "name": "stderr",
     "output_type": "stream",
     "text": [
      "data with frequency 'IRREG' has been resampled to frequency 'D'.\n",
      "Model not specified in predict, will default to the model with the best validation score: ChronosFineTuned[bolt_small]\n"
     ]
    },
    {
     "name": "stdout",
     "output_type": "stream",
     "text": [
      "{'MASE': -24.338095981721054, 'MAPE': -12.394906652996466, 'RMSE': np.float64(-91491.38940825948), 'SMAPE': -0.5523895162861165}\n"
     ]
    }
   ],
   "source": [
    "scores = predictor.evaluate(test_data, metrics=['MASE','MAPE','RMSE','SMAPE'])\n",
    "print(scores)"
   ]
  },
  {
   "cell_type": "code",
   "execution_count": 41,
   "id": "201e1534",
   "metadata": {},
   "outputs": [
    {
     "name": "stderr",
     "output_type": "stream",
     "text": [
      "Loading predictor from path d:\\Project iseng\\StockAI\\backend StockAI\\modeling StockAI\\AutogluonModels\\ag-20250908_044919\n"
     ]
    }
   ],
   "source": [
    "from autogluon.timeseries import TimeSeriesPredictor\n",
    "\n",
    "predictor = TimeSeriesPredictor.load(\"AutogluonModels/ag-20250908_044919\")  \n",
    "# replace with your actual save path\n"
   ]
  },
  {
   "cell_type": "code",
   "execution_count": 42,
   "id": "595a9553",
   "metadata": {},
   "outputs": [
    {
     "name": "stderr",
     "output_type": "stream",
     "text": [
      "data with frequency 'IRREG' has been resampled to frequency 'D'.\n",
      "Model not specified in predict, will default to the model with the best validation score: ChronosFineTuned[bolt_small]\n"
     ]
    }
   ],
   "source": [
    "# Directly predict future values for all series\n",
    "forecast = predictor.predict(ts_data)\n"
   ]
  },
  {
   "cell_type": "code",
   "execution_count": 45,
   "id": "71a6b7cb",
   "metadata": {},
   "outputs": [],
   "source": [
    "import os\n",
    "\n",
    "# Convert forecast to pandas DataFrame\n",
    "df = forecast.to_data_frame().reset_index()\n",
    "\n",
    "# Make sure output directory exists\n",
    "os.makedirs(\"forecast_result\", exist_ok=True)\n",
    "\n",
    "# Loop through each item_id\n",
    "for item in df[\"item_id\"].unique():\n",
    "    item_df = df[df[\"item_id\"] == item][[\"timestamp\", \"mean\"]]\n",
    "    item_df.to_csv(f\"forecast_result/{item}_forecast.csv\", index=False)\n"
   ]
  },
  {
   "cell_type": "code",
   "execution_count": 39,
   "id": "5ef68d10",
   "metadata": {},
   "outputs": [
    {
     "name": "stdout",
     "output_type": "stream",
     "text": [
      "                   mean          0.1          0.2          0.3          0.4  \\\n",
      "timestamp                                                                     \n",
      "2023-01-07  8087.535156  7774.543945  7903.443359  7981.307617  8042.720215   \n",
      "2023-01-08  8079.225586  7722.900391  7879.045898  7960.862305  8031.556152   \n",
      "2023-01-09  8077.478027  7681.188477  7854.636719  7951.703613  8023.370117   \n",
      "2023-01-10  8079.604492  7685.513672  7843.642578  7940.526367  8019.671875   \n",
      "2023-01-11  8059.351562  7656.332031  7823.804688  7922.856445  7996.607910   \n",
      "\n",
      "                    0.5          0.6          0.7          0.8          0.9  \n",
      "timestamp                                                                    \n",
      "2023-01-07  8087.535156  8127.263184  8170.544922  8235.006836  8345.327148  \n",
      "2023-01-08  8079.225586  8128.860352  8180.725098  8259.779297  8386.105469  \n",
      "2023-01-09  8077.478027  8126.064453  8188.417969  8264.718750  8411.484375  \n",
      "2023-01-10  8079.604492  8130.899902  8201.662109  8287.457031  8425.691406  \n",
      "2023-01-11  8059.351562  8114.313477  8179.039062  8265.158203  8418.445312  \n"
     ]
    }
   ],
   "source": [
    "# Inspect forecast for one stock\n",
    "stock_id = ts_data.item_ids[0]  # or pick manually\n",
    "forecast_stock = forecast.loc[stock_id]\n",
    "print(forecast_stock.head())  # shows next 30 timestamps"
   ]
  },
  {
   "cell_type": "code",
   "execution_count": 40,
   "id": "da5017f1",
   "metadata": {},
   "outputs": [
    {
     "data": {
      "image/png": "[encoded data removed]",
      "text/plain": [
       "<Figure size 1200x600 with 1 Axes>"
      ]
     },
     "metadata": {},
     "output_type": "display_data"
    }
   ],
   "source": [
    "import matplotlib.pyplot as plt\n",
    "\n",
    "history = ts_data.loc[stock_id]\n",
    "\n",
    "plt.figure(figsize=(12,6))\n",
    "plt.plot(forecast_stock.index, forecast_stock[\"mean\"], label=\"Forecast\", color=\"blue\")\n",
    "\n",
    "plt.title(f\"Next {len(forecast_stock)} days forecast for {stock_id}\")\n",
    "plt.xlabel(\"Date\")\n",
    "plt.ylabel(\"Value\")\n",
    "plt.legend()\n",
    "plt.show()\n"
   ]
  }
 ],
 "metadata": {
  "kernelspec": {
   "display_name": "env_nugas",
   "language": "python",
   "name": "python3"
  },
  "language_info": {
   "codemirror_mode": {
    "name": "ipython",
    "version": 3
   },
   "file_extension": ".py",
   "mimetype": "text/x-python",
   "name": "python",
   "nbconvert_exporter": "python",
   "pygments_lexer": "ipython3",
   "version": "3.12.11"
  }
 },
 "nbformat": 4,
 "nbformat_minor": 5
}
